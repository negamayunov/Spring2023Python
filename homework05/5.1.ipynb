{
 "cells": [
  {
   "cell_type": "markdown",
   "id": "e8c82d99-a26f-4b56-ad37-f3658989e816",
   "metadata": {},
   "source": [
    "### 1. Четные индексы"
   ]
  },
  {
   "cell_type": "code",
   "execution_count": 1,
   "id": "af553c17-df4b-4ad1-84f4-074827da45d8",
   "metadata": {},
   "outputs": [
    {
     "name": "stdin",
     "output_type": "stream",
     "text": [
      " 1 2 3 4 5 \n"
     ]
    },
    {
     "name": "stdout",
     "output_type": "stream",
     "text": [
      "1 3 5\n"
     ]
    }
   ],
   "source": [
    "print(' '.join(input().split()[::2]))"
   ]
  },
  {
   "cell_type": "markdown",
   "id": "c95eb020-c9d9-42e6-8d39-6bc227a5c6f9",
   "metadata": {},
   "source": [
    "### 2. Наибольший элемент и его индекс"
   ]
  },
  {
   "cell_type": "code",
   "execution_count": 2,
   "id": "b6d21500-e358-4bf8-b0ab-c762d1a60d6c",
   "metadata": {},
   "outputs": [
    {
     "name": "stdin",
     "output_type": "stream",
     "text": [
      " 1 2 3 2 1 \n"
     ]
    },
    {
     "name": "stdout",
     "output_type": "stream",
     "text": [
      "3 2\n"
     ]
    }
   ],
   "source": [
    "A = list(map(int, input().split()))\n",
    "print(max(A), A.index(max(A)))"
   ]
  },
  {
   "cell_type": "markdown",
   "id": "b4aa56e5-d487-4b6e-8315-a6ff9fe364e2",
   "metadata": {},
   "source": [
    "### 3. Вывести в обратном порядке\n"
   ]
  },
  {
   "cell_type": "code",
   "execution_count": 3,
   "id": "fb28698b-a75e-45e0-a109-1a0c09476fac",
   "metadata": {},
   "outputs": [
    {
     "name": "stdin",
     "output_type": "stream",
     "text": [
      " 1 2 3 4 5\n"
     ]
    },
    {
     "name": "stdout",
     "output_type": "stream",
     "text": [
      "5 4 3 2 1\n"
     ]
    }
   ],
   "source": [
    "print(input()[::-1])"
   ]
  },
  {
   "cell_type": "markdown",
   "id": "7cd012f5-995d-4176-a57e-5bce4eb6bed3",
   "metadata": {},
   "source": [
    "### 4. Переставить соседние\n"
   ]
  },
  {
   "cell_type": "code",
   "execution_count": 4,
   "id": "48f6a27b-be32-47e3-95af-919a7aa9c355",
   "metadata": {},
   "outputs": [
    {
     "name": "stdin",
     "output_type": "stream",
     "text": [
      " 1 2 3 4 5\n"
     ]
    },
    {
     "name": "stdout",
     "output_type": "stream",
     "text": [
      "2 1 4 3 5\n"
     ]
    }
   ],
   "source": [
    "A = input().split()\n",
    "D, L = map(lambda X, Y: str(Y) + ' ' + str(X), A[::2], A[1::2]), A[-1] if len(A) % 2 else ''\n",
    "print(' '.join(D), L)"
   ]
  },
  {
   "cell_type": "markdown",
   "id": "15816efa-b51b-4ed3-abfd-8da402ce76a9",
   "metadata": {},
   "source": [
    "### 5. Циклический сдвиг вправо"
   ]
  },
  {
   "cell_type": "code",
   "execution_count": 5,
   "id": "75dc0760-d06f-4227-9db2-3fadd25004e1",
   "metadata": {},
   "outputs": [
    {
     "name": "stdin",
     "output_type": "stream",
     "text": [
      " 1 2 3 4 5 \n"
     ]
    },
    {
     "name": "stdout",
     "output_type": "stream",
     "text": [
      "5 1 2 3 4\n"
     ]
    }
   ],
   "source": [
    "A = input().split()\n",
    "print(str(A[-1]), ' '.join(A[:-1]))"
   ]
  },
  {
   "cell_type": "markdown",
   "id": "ba4356dc-e910-4fda-ad7a-7c9ae874b88f",
   "metadata": {},
   "source": [
    "### 6. Удалить элемент\n"
   ]
  },
  {
   "cell_type": "code",
   "execution_count": 6,
   "id": "41e0f439-54aa-4f2f-a1d9-64f93edef9e0",
   "metadata": {},
   "outputs": [
    {
     "name": "stdin",
     "output_type": "stream",
     "text": [
      " 7 6 5 4 3 2 1\n",
      " 2\n"
     ]
    },
    {
     "name": "stdout",
     "output_type": "stream",
     "text": [
      "7 6 4 3 2 1\n"
     ]
    }
   ],
   "source": [
    "A, i = input().split(), int(input())\n",
    "print(' '.join(A[:i]), ' '.join(A[i + 1:]))"
   ]
  },
  {
   "cell_type": "markdown",
   "id": "9a395259-e37e-41fe-860c-af7633aca463",
   "metadata": {},
   "source": [
    "### 7. Вставить элемент \n"
   ]
  },
  {
   "cell_type": "code",
   "execution_count": 7,
   "id": "b569282e-3bec-48a9-a2a8-7ca90d800986",
   "metadata": {},
   "outputs": [
    {
     "name": "stdin",
     "output_type": "stream",
     "text": [
      " 7 6 5 4 3 2 1\n",
      " 2 0\n"
     ]
    },
    {
     "name": "stdout",
     "output_type": "stream",
     "text": [
      "7 6 0 5 4 3 2 1\n"
     ]
    }
   ],
   "source": [
    "A = input().split() \n",
    "n, elem = map(int, input().split())\n",
    "print(' '.join(A[:n]), elem, ' '.join(A[n :]))"
   ]
  },
  {
   "cell_type": "markdown",
   "id": "0c9ff6f1-6cce-4442-ad9e-11633be75c4e",
   "metadata": {},
   "source": [
    "### 8. Большой сдвиг"
   ]
  },
  {
   "cell_type": "code",
   "execution_count": 8,
   "id": "29d9055c-8fe2-48ce-8382-c020191a0241",
   "metadata": {},
   "outputs": [
    {
     "name": "stdin",
     "output_type": "stream",
     "text": [
      " 5 3 7 4 6\n",
      " 3\n"
     ]
    },
    {
     "name": "stdout",
     "output_type": "stream",
     "text": [
      "7 4 6 5 3\n"
     ]
    }
   ],
   "source": [
    "A, n = input().split(), int(input()) - 1\n",
    "print(' '.join(A[n:]), ' '.join(A[:n]))"
   ]
  }
 ],
 "metadata": {
  "kernelspec": {
   "display_name": "Python 3 (ipykernel)",
   "language": "python",
   "name": "python3"
  },
  "language_info": {
   "codemirror_mode": {
    "name": "ipython",
    "version": 3
   },
   "file_extension": ".py",
   "mimetype": "text/x-python",
   "name": "python",
   "nbconvert_exporter": "python",
   "pygments_lexer": "ipython3",
   "version": "3.9.12"
  }
 },
 "nbformat": 4,
 "nbformat_minor": 5
}
